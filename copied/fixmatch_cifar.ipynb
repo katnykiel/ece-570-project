{
  "cells": [
    {
      "cell_type": "markdown",
      "metadata": {
        "collapsed": true,
        "pycharm": {
          "name": "#%% md\n"
        },
        "id": "d7ReomDKJBOL"
      },
      "source": [
        "# Getting started with our ultimate beginner guide!"
      ]
    },
    {
      "cell_type": "code",
      "source": [
        "!pip install semilearn==0.3.1\n",
        "!nvidia-smi"
      ],
      "metadata": {
        "id": "ChgugcBLJCkD"
      },
      "execution_count": null,
      "outputs": []
    },
    {
      "cell_type": "markdown",
      "metadata": {
        "collapsed": false,
        "pycharm": {
          "name": "#%% md\n"
        },
        "id": "KrFTMfh3JBOO"
      },
      "source": [
        "## This tutorial will walk you through the basics of using the `usb` lighting package. Let's get started by training a FixMatch model on CIFAR-10!"
      ]
    },
    {
      "cell_type": "code",
      "execution_count": null,
      "metadata": {
        "pycharm": {
          "name": "#%%\n"
        },
        "id": "yJIN2jukJBOO"
      },
      "outputs": [],
      "source": [
        "import semilearn\n",
        "from semilearn import get_dataset, get_data_loader, get_net_builder, get_algorithm, get_config, Trainer"
      ]
    },
    {
      "cell_type": "markdown",
      "metadata": {
        "collapsed": false,
        "pycharm": {
          "name": "#%% md\n"
        },
        "id": "-u4ZkU-SJBOP"
      },
      "source": [
        "## Step 1: define configs and create config"
      ]
    },
    {
      "cell_type": "code",
      "execution_count": null,
      "metadata": {
        "pycharm": {
          "name": "#%%\n"
        },
        "id": "qtYeEEhHJBOP"
      },
      "outputs": [],
      "source": [
        "config = {\n",
        "    'algorithm': 'fixmatch',\n",
        "    'net': 'vit_tiny_patch2_32',\n",
        "    'use_pretrain': True,\n",
        "    'pretrain_path': 'https://github.com/microsoft/Semi-supervised-learning/releases/download/v.0.0.0/vit_tiny_patch2_32_mlp_im_1k_32.pth',\n",
        "\n",
        "    # optimization configs\n",
        "    'epoch': 1,\n",
        "    'num_train_iter': 2000,\n",
        "    'num_eval_iter': 500,\n",
        "    'num_log_iter': 50,\n",
        "    'optim': 'AdamW',\n",
        "    'lr': 5e-4,\n",
        "    'layer_decay': 0.5,\n",
        "    'batch_size': 16,\n",
        "    'eval_batch_size': 16,\n",
        "\n",
        "\n",
        "    # dataset configs\n",
        "    'dataset': 'cifar10',\n",
        "    'num_labels': 40,\n",
        "    'num_classes': 10,\n",
        "    'img_size': 32,\n",
        "    'crop_ratio': 0.875,\n",
        "    'data_dir': './data',\n",
        "    'ulb_samples_per_class': None,\n",
        "\n",
        "    # algorithm specific configs\n",
        "    'hard_label': True,\n",
        "    'uratio': 2,\n",
        "    'ulb_loss_ratio': 1.0,\n",
        "\n",
        "    # device configs\n",
        "    'gpu': 0,\n",
        "    'world_size': 1,\n",
        "    'distributed': False,\n",
        "    \"num_workers\": 2,\n",
        "}\n",
        "config = get_config(config)"
      ]
    },
    {
      "cell_type": "markdown",
      "metadata": {
        "collapsed": false,
        "pycharm": {
          "name": "#%% md\n"
        },
        "id": "UmaY7WGGJBOQ"
      },
      "source": [
        "## Step 2: create model and specify algorithm"
      ]
    },
    {
      "cell_type": "code",
      "execution_count": null,
      "metadata": {
        "pycharm": {
          "name": "#%%\n"
        },
        "id": "i1yf65R1JBOQ"
      },
      "outputs": [],
      "source": [
        "algorithm = get_algorithm(config,  get_net_builder(config.net, from_name=False), tb_log=None, logger=None)"
      ]
    },
    {
      "cell_type": "markdown",
      "metadata": {
        "collapsed": false,
        "pycharm": {
          "name": "#%% md\n"
        },
        "id": "Ofmr3nU9JBOR"
      },
      "source": [
        "## Step 3: create dataset"
      ]
    },
    {
      "cell_type": "code",
      "execution_count": null,
      "metadata": {
        "pycharm": {
          "name": "#%%\n"
        },
        "id": "pt55qYD-JBOR"
      },
      "outputs": [],
      "source": [
        "dataset_dict = get_dataset(config, config.algorithm, config.dataset, config.num_labels, config.num_classes, data_dir=config.data_dir, include_lb_to_ulb=config.include_lb_to_ulb)\n",
        "train_lb_loader = get_data_loader(config, dataset_dict['train_lb'], config.batch_size)\n",
        "train_ulb_loader = get_data_loader(config, dataset_dict['train_ulb'], int(config.batch_size * config.uratio))\n",
        "eval_loader = get_data_loader(config, dataset_dict['eval'], config.eval_batch_size)"
      ]
    },
    {
      "cell_type": "markdown",
      "metadata": {
        "collapsed": false,
        "pycharm": {
          "name": "#%% md\n"
        },
        "id": "5vjfsI56JBOS"
      },
      "source": [
        "## Step 4: train"
      ]
    },
    {
      "cell_type": "code",
      "execution_count": null,
      "metadata": {
        "pycharm": {
          "name": "#%%\n"
        },
        "id": "Te1-aN8YJBOS"
      },
      "outputs": [],
      "source": [
        "trainer = Trainer(config, algorithm)\n",
        "trainer.fit(train_lb_loader, train_ulb_loader, eval_loader)"
      ]
    },
    {
      "cell_type": "markdown",
      "metadata": {
        "collapsed": false,
        "pycharm": {
          "name": "#%% md\n"
        },
        "id": "P-wh809ZJBOT"
      },
      "source": [
        "## Step 5: evaluate"
      ]
    },
    {
      "cell_type": "code",
      "execution_count": null,
      "metadata": {
        "pycharm": {
          "name": "#%%\n"
        },
        "id": "tHya1RwQJBOT"
      },
      "outputs": [],
      "source": [
        "trainer.evaluate(eval_loader)"
      ]
    },
    {
      "cell_type": "markdown",
      "metadata": {
        "collapsed": false,
        "pycharm": {
          "name": "#%% md\n"
        },
        "id": "gxx08HS4JBOT"
      },
      "source": [
        "## Step 6: predict"
      ]
    },
    {
      "cell_type": "code",
      "execution_count": null,
      "metadata": {
        "pycharm": {
          "name": "#%%\n"
        },
        "id": "64i4GRKZJBOT"
      },
      "outputs": [],
      "source": [
        "y_pred, y_logits = trainer.predict(eval_loader)"
      ]
    }
  ],
  "metadata": {
    "kernelspec": {
      "display_name": "Python 3",
      "name": "python3"
    },
    "language_info": {
      "codemirror_mode": {
        "name": "ipython",
        "version": 3
      },
      "file_extension": ".py",
      "mimetype": "text/x-python",
      "name": "python",
      "nbconvert_exporter": "python",
      "pygments_lexer": "ipython3",
      "version": "3.9.7"
    },
    "vscode": {
      "interpreter": {
        "hash": "14fdae43b6832bb72ce88e7b0f0abad5df08cdc5020a07bd6c19bfca5a847f29"
      }
    },
    "colab": {
      "provenance": [],
      "gpuType": "T4"
    },
    "accelerator": "GPU"
  },
  "nbformat": 4,
  "nbformat_minor": 0
}